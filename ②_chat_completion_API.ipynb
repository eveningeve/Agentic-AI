{
  "nbformat": 4,
  "nbformat_minor": 0,
  "metadata": {
    "colab": {
      "provenance": []
    },
    "kernelspec": {
      "name": "python3",
      "display_name": "Python 3"
    },
    "language_info": {
      "name": "python"
    }
  },
  "cells": [
    {
      "cell_type": "code",
      "source": [
        "!pip install --upgrade openai"
      ],
      "metadata": {
        "colab": {
          "base_uri": "https://localhost:8080/"
        },
        "id": "TOZfhyha-xm8",
        "outputId": "a6efb3f1-09c8-4713-fb7c-74a037d76e74"
      },
      "execution_count": 1,
      "outputs": [
        {
          "output_type": "stream",
          "name": "stdout",
          "text": [
            "Requirement already satisfied: openai in /usr/local/lib/python3.11/dist-packages (1.77.0)\n",
            "Requirement already satisfied: anyio<5,>=3.5.0 in /usr/local/lib/python3.11/dist-packages (from openai) (4.9.0)\n",
            "Requirement already satisfied: distro<2,>=1.7.0 in /usr/local/lib/python3.11/dist-packages (from openai) (1.9.0)\n",
            "Requirement already satisfied: httpx<1,>=0.23.0 in /usr/local/lib/python3.11/dist-packages (from openai) (0.28.1)\n",
            "Requirement already satisfied: jiter<1,>=0.4.0 in /usr/local/lib/python3.11/dist-packages (from openai) (0.9.0)\n",
            "Requirement already satisfied: pydantic<3,>=1.9.0 in /usr/local/lib/python3.11/dist-packages (from openai) (2.11.4)\n",
            "Requirement already satisfied: sniffio in /usr/local/lib/python3.11/dist-packages (from openai) (1.3.1)\n",
            "Requirement already satisfied: tqdm>4 in /usr/local/lib/python3.11/dist-packages (from openai) (4.67.1)\n",
            "Requirement already satisfied: typing-extensions<5,>=4.11 in /usr/local/lib/python3.11/dist-packages (from openai) (4.13.2)\n",
            "Requirement already satisfied: idna>=2.8 in /usr/local/lib/python3.11/dist-packages (from anyio<5,>=3.5.0->openai) (3.10)\n",
            "Requirement already satisfied: certifi in /usr/local/lib/python3.11/dist-packages (from httpx<1,>=0.23.0->openai) (2025.4.26)\n",
            "Requirement already satisfied: httpcore==1.* in /usr/local/lib/python3.11/dist-packages (from httpx<1,>=0.23.0->openai) (1.0.9)\n",
            "Requirement already satisfied: h11>=0.16 in /usr/local/lib/python3.11/dist-packages (from httpcore==1.*->httpx<1,>=0.23.0->openai) (0.16.0)\n",
            "Requirement already satisfied: annotated-types>=0.6.0 in /usr/local/lib/python3.11/dist-packages (from pydantic<3,>=1.9.0->openai) (0.7.0)\n",
            "Requirement already satisfied: pydantic-core==2.33.2 in /usr/local/lib/python3.11/dist-packages (from pydantic<3,>=1.9.0->openai) (2.33.2)\n",
            "Requirement already satisfied: typing-inspection>=0.4.0 in /usr/local/lib/python3.11/dist-packages (from pydantic<3,>=1.9.0->openai) (0.4.0)\n"
          ]
        }
      ]
    },
    {
      "cell_type": "code",
      "execution_count": 1,
      "metadata": {
        "id": "oziT51XShfBy"
      },
      "outputs": [],
      "source": [
        "from openai import OpenAI\n",
        "import json\n",
        "\n",
        "# load and set our key\n",
        "client= OpenAI(api_key=open(\"key.txt\", \"r\").read().strip(\"\\n\"))"
      ]
    },
    {
      "cell_type": "markdown",
      "source": [
        "## Get_weather"
      ],
      "metadata": {
        "id": "y-Qb79yNllMj"
      }
    },
    {
      "cell_type": "markdown",
      "source": [
        "### Step 1: Define the function schema"
      ],
      "metadata": {
        "id": "9ZDNb6gmq1yO"
      }
    },
    {
      "cell_type": "code",
      "source": [
        "functions=[\n",
        "    {\n",
        "        \"name\": \"get_weather\",\n",
        "        \"description\": \"Get the current weather for a given location\",\n",
        "        \"parameters\": {\n",
        "            \"type\": \"object\",\n",
        "            \"properties\": { # parameter definitions\n",
        "                \"location\": {\n",
        "                    \"type\": \"string\",\n",
        "                    \"description\": \"city name and optionally the country, e.g., 'Boston, United States' \"\n",
        "                               }\n",
        "                # \"unit\": {\n",
        "                #     \"type\": \"string\",\n",
        "                #     \"enum\": [\"celsius\", \"fahrenheit\"],\n",
        "                #     \"description\": \"Temperature unit\"\n",
        "                #           }\n",
        "                },\n",
        "             \"required\": [\"location\"]\n",
        "            }\n",
        "        }\n",
        "]"
      ],
      "metadata": {
        "id": "vIcC5Uzbq9DZ"
      },
      "execution_count": 2,
      "outputs": []
    },
    {
      "cell_type": "markdown",
      "source": [
        "### Step2: Ask GPT and let it decide whether to call the function or not"
      ],
      "metadata": {
        "id": "XF48tDwZ7m0c"
      }
    },
    {
      "cell_type": "code",
      "source": [
        "user_message=[\n",
        "    {\n",
        "    \"role\": \"system\",\n",
        "    \"content\": \"You are a helpful assistant.\",\n",
        "    },\n",
        "    {\"role\": \"user\",\n",
        "    \"content\": \"What's the weather like in Boston today?\"\n",
        "     }\n",
        "]"
      ],
      "metadata": {
        "id": "QXMagSbB7kBO"
      },
      "execution_count": 3,
      "outputs": []
    },
    {
      "cell_type": "code",
      "source": [
        "completion=client.chat.completions.create(\n",
        "    model=\"gpt-4-0613\",\n",
        "    messages=user_message,\n",
        "    functions=functions,\n",
        "    function_call={\"name\":\"get_weather\"}\n",
        ")\n",
        "completion"
      ],
      "metadata": {
        "colab": {
          "base_uri": "https://localhost:8080/"
        },
        "id": "HVyJ7zjC9Iid",
        "outputId": "6ff9a5e6-45b0-49f6-aa38-679b3cdfe23e"
      },
      "execution_count": 5,
      "outputs": [
        {
          "output_type": "execute_result",
          "data": {
            "text/plain": [
              "ChatCompletion(id='chatcmpl-BUJYjgceFSZpj6NDU6p13sCxVDlv5', choices=[Choice(finish_reason='stop', index=0, logprobs=None, message=ChatCompletionMessage(content=None, refusal=None, role='assistant', annotations=[], audio=None, function_call=FunctionCall(arguments='{\\n  \"location\": \"Boston, United States\"\\n}', name='get_weather'), tool_calls=None))], created=1746564725, model='gpt-4-0613', object='chat.completion', service_tier='default', system_fingerprint=None, usage=CompletionUsage(completion_tokens=13, prompt_tokens=86, total_tokens=99, completion_tokens_details=CompletionTokensDetails(accepted_prediction_tokens=0, audio_tokens=0, reasoning_tokens=0, rejected_prediction_tokens=0), prompt_tokens_details=PromptTokensDetails(audio_tokens=0, cached_tokens=0)))"
            ]
          },
          "metadata": {},
          "execution_count": 5
        }
      ]
    },
    {
      "cell_type": "code",
      "source": [
        "model_message=completion[\"choices\"][0][\"message\"]"
      ],
      "metadata": {
        "colab": {
          "base_uri": "https://localhost:8080/",
          "height": 147
        },
        "id": "O6DkXvMo97My",
        "outputId": "befd763b-7b45-47df-81b0-3a6f50b4fcf4"
      },
      "execution_count": 6,
      "outputs": [
        {
          "output_type": "error",
          "ename": "TypeError",
          "evalue": "'ChatCompletion' object is not subscriptable",
          "traceback": [
            "\u001b[0;31m---------------------------------------------------------------------------\u001b[0m",
            "\u001b[0;31mTypeError\u001b[0m                                 Traceback (most recent call last)",
            "\u001b[0;32m<ipython-input-6-6a0fd3657be2>\u001b[0m in \u001b[0;36m<cell line: 0>\u001b[0;34m()\u001b[0m\n\u001b[0;32m----> 1\u001b[0;31m \u001b[0mmodel_message\u001b[0m\u001b[0;34m=\u001b[0m\u001b[0mcompletion\u001b[0m\u001b[0;34m[\u001b[0m\u001b[0;34m\"choices\"\u001b[0m\u001b[0;34m]\u001b[0m\u001b[0;34m[\u001b[0m\u001b[0;36m0\u001b[0m\u001b[0;34m]\u001b[0m\u001b[0;34m[\u001b[0m\u001b[0;34m\"message\"\u001b[0m\u001b[0;34m]\u001b[0m\u001b[0;34m\u001b[0m\u001b[0;34m\u001b[0m\u001b[0m\n\u001b[0m",
            "\u001b[0;31mTypeError\u001b[0m: 'ChatCompletion' object is not subscriptable"
          ]
        }
      ]
    },
    {
      "cell_type": "markdown",
      "source": [
        "This error indicates that the variable ```completion```is not a dictionary  or a list, but rather a ```ChatCompletion```object. It can be accessed using object <font color='azure'>**attributes**</font> and methods, not direct subscription with square brackets."
      ],
      "metadata": {
        "id": "BzOzf0LoB7CY"
      }
    },
    {
      "cell_type": "code",
      "source": [
        "model_message=completion.choices[0].message\n",
        "model_message"
      ],
      "metadata": {
        "colab": {
          "base_uri": "https://localhost:8080/"
        },
        "id": "8XliPd_wEDU6",
        "outputId": "e0f1148f-5d6c-42a0-a8a1-8e16046940fc"
      },
      "execution_count": 6,
      "outputs": [
        {
          "output_type": "execute_result",
          "data": {
            "text/plain": [
              "ChatCompletionMessage(content=None, refusal=None, role='assistant', annotations=[], audio=None, function_call=FunctionCall(arguments='{\\n  \"location\": \"Boston, United States\"\\n}', name='get_weather'), tool_calls=None)"
            ]
          },
          "metadata": {},
          "execution_count": 6
        }
      ]
    },
    {
      "cell_type": "markdown",
      "source": [
        "It seems that the model decided to call the get_weather function."
      ],
      "metadata": {
        "id": "YHxEZPbKEWQZ"
      }
    },
    {
      "cell_type": "markdown",
      "source": [
        "### Step3: Run the actual function"
      ],
      "metadata": {
        "id": "TkSrIDVJFnsf"
      }
    },
    {
      "cell_type": "code",
      "source": [
        "import requests\n",
        "import json\n",
        "\n",
        "def get_weather(location):\n",
        "  url = \"https://open-weather13.p.rapidapi.com/city\"\n",
        "\n",
        "  querystring = {\"city\":\"new york\",\"lang\":\"EN\"}\n",
        "\n",
        "  headers = {\n",
        "    \"x-rapidapi-key\": \"55380f5857msh2efb42dd6b82303p13fa99jsn40f1fde1c28f\",\n",
        "    \"x-rapidapi-host\": \"open-weather13.p.rapidapi.com\"\n",
        "  }\n",
        "\n",
        "  response = requests.get(url, headers=headers, params=querystring)\n",
        "  data=response.json()\n",
        "\n",
        "  weather={\n",
        "      \"location\": location,\n",
        "      \"temperature\":data[\"main\"][\"temp\"],\n",
        "      \"min_temp\": data[\"main\"][\"temp_min\"],\n",
        "      \"max_temp\": data[\"main\"][\"temp_max\"],\n",
        "      \"description\": data[\"weather\"][0][\"description\"],\n",
        "      \"icon\": data[\"weather\"][\"icon\"],\n",
        "      \"feels_like\":data[\"main\"][\"feels_like\"],\n",
        "      \"humidity\": data[\"main\"][\"humidity\"]\n",
        "  }\n",
        "\n",
        "  return weather"
      ],
      "metadata": {
        "id": "9VYzbedAitk8"
      },
      "execution_count": 7,
      "outputs": []
    },
    {
      "cell_type": "code",
      "source": [
        "import requests\n",
        "import json\n",
        "\n",
        "def get_weather(location):\n",
        "  url = \"https://weather-api167.p.rapidapi.com/api/weather/current\"\n",
        "\n",
        "  querystring = {\"place\":\"Boston\",\"units\":\"standard\",\"lang\":\"en\",\"mode\":\"json\"}\n",
        "\n",
        "  headers = {\n",
        "    \"x-rapidapi-key\": \"55380f5857msh2efb42dd6b82303p13fa99jsn40f1fde1c28f\",\n",
        "    \"x-rapidapi-host\": \"weather-api167.p.rapidapi.com\",\n",
        "    \"Accept\": \"application/json\"\n",
        "  }\n",
        "\n",
        "  response = requests.get(url, headers=headers, params=querystring)\n",
        "  data=response.json()\n",
        "\n",
        "  # weather={\n",
        "  #     \"location\": location,\n",
        "  #     \"temperature\":data[\"main\"][\"temp\"],\n",
        "  #     \"min_temp\": data[\"main\"][\"temp_min\"],\n",
        "  #     \"max_temp\": data[\"main\"][\"temp_max\"],\n",
        "  #     \"description\": data[\"weather\"][0][\"description\"],\n",
        "  #     \"icon\": data[\"weather\"][\"icon\"],\n",
        "  #     \"feels_like\":data[\"main\"][\"feels_like\"],\n",
        "  #     \"humidity\": data[\"main\"][\"humidity\"]\n",
        "  # }\n",
        "\n",
        "  # return weather"
      ],
      "metadata": {
        "id": "KJB1KE4zWLOb"
      },
      "execution_count": 9,
      "outputs": []
    },
    {
      "cell_type": "code",
      "source": [
        "# Parse the structured JSON containing the parameters (arguments) to be used\n",
        "# from the GPT response and converts it into a Python dictionary using json.loads()\n",
        "func_args=json.loads(model_message.function_call.arguments)\n",
        "result=get_weather(**func_args)"
      ],
      "metadata": {
        "id": "3E0Wp-CYE8EX"
      },
      "execution_count": 10,
      "outputs": []
    },
    {
      "cell_type": "markdown",
      "source": [
        "### Step4: Send result back to GPT"
      ],
      "metadata": {
        "id": "Ed-1FdC_HuKt"
      }
    },
    {
      "cell_type": "code",
      "source": [
        "final_completion=client.chat.completions.create(\n",
        "    model=\"gpt-4-0613\",\n",
        "    messages=[\n",
        "        user_message[1], # use only the user's message without that of system.\n",
        "        model_message,\n",
        "        {\n",
        "            \"role\": \"function\",\n",
        "            \"name\": \"get_weather\",\n",
        "            \"content\": json.dumps(result)\n",
        "        }\n",
        "         ]\n",
        ")\n",
        "final_completion"
      ],
      "metadata": {
        "colab": {
          "base_uri": "https://localhost:8080/"
        },
        "id": "afBIZkoJGqh9",
        "outputId": "a2e3873d-0ee9-46e6-ddb8-7fe4c810bd04"
      },
      "execution_count": 11,
      "outputs": [
        {
          "output_type": "execute_result",
          "data": {
            "text/plain": [
              "ChatCompletion(id='chatcmpl-BUJZ7CwJkOFijIkRw3ufkkiuX9e57', choices=[Choice(finish_reason='stop', index=0, logprobs=None, message=ChatCompletionMessage(content=\"I'm sorry, I am currently unable to provide the weather updates for Boston at this moment. Please check a reliable weather forecasting website or app to get the most accurate information.\", refusal=None, role='assistant', annotations=[], audio=None, function_call=None, tool_calls=None))], created=1746564749, model='gpt-4-0613', object='chat.completion', service_tier='default', system_fingerprint=None, usage=CompletionUsage(completion_tokens=36, prompt_tokens=43, total_tokens=79, completion_tokens_details=CompletionTokensDetails(accepted_prediction_tokens=0, audio_tokens=0, reasoning_tokens=0, rejected_prediction_tokens=0), prompt_tokens_details=PromptTokensDetails(audio_tokens=0, cached_tokens=0)))"
            ]
          },
          "metadata": {},
          "execution_count": 11
        }
      ]
    },
    {
      "cell_type": "markdown",
      "source": [
        "### Step5: Get user-friendly response"
      ],
      "metadata": {
        "id": "exwAn-CPJszw"
      }
    },
    {
      "cell_type": "code",
      "source": [],
      "metadata": {
        "id": "AClO18IqJvxu"
      },
      "execution_count": null,
      "outputs": []
    }
  ]
}